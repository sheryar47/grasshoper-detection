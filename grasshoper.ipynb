{
 "cells": [
  {
   "cell_type": "code",
   "execution_count": 1,
   "id": "bafd90e2-94d2-49d6-a8f6-7ae4e7aa6dd5",
   "metadata": {},
   "outputs": [
    {
     "name": "stdout",
     "output_type": "stream",
     "text": [
      "❌ Error: Cascade file not loaded. Make sure 'grasshopper_cascade.xml' is in the dataset folder.\n"
     ]
    }
   ],
   "source": [
    "import cv2\n",
    "import os\n",
    "\n",
    "def detect_grasshopper(image, cascade):\n",
    "    gray = cv2.cvtColor(image, cv2.COLOR_BGR2GRAY)\n",
    "    detections = cascade.detectMultiScale(gray, 1.1, 5, minSize=(30, 30))\n",
    "    for (x, y, w, h) in detections:\n",
    "        cv2.rectangle(image, (x, y), (x + w, y + h), (0, 255, 0), 2)\n",
    "    return image\n",
    "\n",
    "def process_images(directory, cascade):\n",
    "    for file in os.listdir(directory):\n",
    "        if file.lower().endswith(('.jpg', '.jpeg', '.png')):\n",
    "            img_path = os.path.join(directory, file)\n",
    "            image = cv2.imread(img_path)\n",
    "            if image is None:\n",
    "                print(f\"Couldn't read: {file}\")\n",
    "                continue\n",
    "            result = detect_grasshopper(image, cascade)\n",
    "            cv2.imshow(\"Grasshopper Detection\", result)\n",
    "            cv2.waitKey(0)\n",
    "    cv2.destroyAllWindows()\n",
    "\n",
    "def main():\n",
    "    dataset_dir = r\"C:\\Users\\Manan Computer\\Desktop\\GRASSHOPERDATASET\"\n",
    "    cascade_path = os.path.join(dataset_dir, \"grasshopper_cascade.xml\")\n",
    "\n",
    "    cascade = cv2.CascadeClassifier(cascade_path)\n",
    "    if cascade.empty():\n",
    "        print(\"❌ Error: Cascade file not loaded. Make sure 'grasshopper_cascade.xml' is in the dataset folder.\")\n",
    "        return\n",
    "\n",
    "    process_images(dataset_dir, cascade)\n",
    "\n",
    "if __name__ == \"__main__\":\n",
    "    main()\n"
   ]
  },
  {
   "cell_type": "code",
   "execution_count": null,
   "id": "8036be1e-6628-41fb-b73c-8ea6055e9c41",
   "metadata": {},
   "outputs": [],
   "source": []
  }
 ],
 "metadata": {
  "kernelspec": {
   "display_name": "Python 3 (ipykernel)",
   "language": "python",
   "name": "python3"
  },
  "language_info": {
   "codemirror_mode": {
    "name": "ipython",
    "version": 3
   },
   "file_extension": ".py",
   "mimetype": "text/x-python",
   "name": "python",
   "nbconvert_exporter": "python",
   "pygments_lexer": "ipython3",
   "version": "3.12.7"
  }
 },
 "nbformat": 4,
 "nbformat_minor": 5
}
